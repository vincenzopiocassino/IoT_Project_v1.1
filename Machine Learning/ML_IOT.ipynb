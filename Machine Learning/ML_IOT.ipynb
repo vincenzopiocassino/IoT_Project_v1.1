{
  "cells": [
    {
      "cell_type": "code",
      "execution_count": 40,
      "metadata": {
        "colab": {
          "base_uri": "https://localhost:8080/"
        },
        "id": "A6JXSa2iYYSF",
        "outputId": "f2c100a0-102a-4d51-893b-edacfde596c4"
      },
      "outputs": [
        {
          "name": "stdout",
          "output_type": "stream",
          "text": [
            "Looking in indexes: https://pypi.org/simple, https://us-python.pkg.dev/colab-wheels/public/simple/\n",
            "Requirement already satisfied: prophet in /usr/local/lib/python3.8/dist-packages (1.1.1)\n",
            "Requirement already satisfied: cmdstanpy>=1.0.4 in /usr/local/lib/python3.8/dist-packages (from prophet) (1.0.8)\n",
            "Requirement already satisfied: wheel>=0.37.0 in /usr/local/lib/python3.8/dist-packages (from prophet) (0.38.4)\n",
            "Requirement already satisfied: setuptools>=42 in /usr/local/lib/python3.8/dist-packages (from prophet) (57.4.0)\n",
            "Requirement already satisfied: convertdate>=2.1.2 in /usr/local/lib/python3.8/dist-packages (from prophet) (2.4.0)\n",
            "Requirement already satisfied: setuptools-git>=1.2 in /usr/local/lib/python3.8/dist-packages (from prophet) (1.2)\n",
            "Requirement already satisfied: tqdm>=4.36.1 in /usr/local/lib/python3.8/dist-packages (from prophet) (4.64.1)\n",
            "Requirement already satisfied: pandas>=1.0.4 in /usr/local/lib/python3.8/dist-packages (from prophet) (1.3.5)\n",
            "Requirement already satisfied: LunarCalendar>=0.0.9 in /usr/local/lib/python3.8/dist-packages (from prophet) (0.0.9)\n",
            "Requirement already satisfied: holidays>=0.14.2 in /usr/local/lib/python3.8/dist-packages (from prophet) (0.18)\n",
            "Requirement already satisfied: matplotlib>=2.0.0 in /usr/local/lib/python3.8/dist-packages (from prophet) (3.2.2)\n",
            "Requirement already satisfied: numpy>=1.15.4 in /usr/local/lib/python3.8/dist-packages (from prophet) (1.21.6)\n",
            "Requirement already satisfied: python-dateutil>=2.8.0 in /usr/local/lib/python3.8/dist-packages (from prophet) (2.8.2)\n",
            "Requirement already satisfied: pymeeus<=1,>=0.3.13 in /usr/local/lib/python3.8/dist-packages (from convertdate>=2.1.2->prophet) (0.5.12)\n",
            "Requirement already satisfied: korean-lunar-calendar in /usr/local/lib/python3.8/dist-packages (from holidays>=0.14.2->prophet) (0.3.1)\n",
            "Requirement already satisfied: hijri-converter in /usr/local/lib/python3.8/dist-packages (from holidays>=0.14.2->prophet) (2.2.4)\n",
            "Requirement already satisfied: ephem>=3.7.5.3 in /usr/local/lib/python3.8/dist-packages (from LunarCalendar>=0.0.9->prophet) (4.1.4)\n",
            "Requirement already satisfied: pytz in /usr/local/lib/python3.8/dist-packages (from LunarCalendar>=0.0.9->prophet) (2022.7)\n",
            "Requirement already satisfied: kiwisolver>=1.0.1 in /usr/local/lib/python3.8/dist-packages (from matplotlib>=2.0.0->prophet) (1.4.4)\n",
            "Requirement already satisfied: pyparsing!=2.0.4,!=2.1.2,!=2.1.6,>=2.0.1 in /usr/local/lib/python3.8/dist-packages (from matplotlib>=2.0.0->prophet) (3.0.9)\n",
            "Requirement already satisfied: cycler>=0.10 in /usr/local/lib/python3.8/dist-packages (from matplotlib>=2.0.0->prophet) (0.11.0)\n",
            "Requirement already satisfied: six>=1.5 in /usr/local/lib/python3.8/dist-packages (from python-dateutil>=2.8.0->prophet) (1.15.0)\n"
          ]
        }
      ],
      "source": [
        "pip install prophet"
      ]
    },
    {
      "cell_type": "markdown",
      "metadata": {
        "id": "Uqf4R2GT7yTN"
      },
      "source": [
        "**Gestione Database**"
      ]
    },
    {
      "cell_type": "code",
      "execution_count": 44,
      "metadata": {
        "id": "1krM_FHWYg6S"
      },
      "outputs": [],
      "source": [
        "import firebase_admin\n",
        "from firebase_admin import credentials, firestore\n",
        "import requests\n",
        "import pandas as pd\n",
        "from datetime import datetime, timedelta\n",
        "from prophet import Prophet\n",
        "import matplotlib.pyplot as plt\n",
        "\n",
        "#confinfurazione database\n",
        "cred = credentials.Certificate('/content/key2.json') \n",
        "#firebase_admin.initialize_app(cred)\n",
        "\n",
        "#inizializza istanza di firestore\n",
        "db = firestore.client()\n",
        "\n",
        "#Recupera i dati dalla collezione \"Data\"\n",
        "data_ref = db.collection(\"Data\")\n",
        "docs = data_ref.get()"
      ]
    },
    {
      "cell_type": "markdown",
      "metadata": {
        "id": "BmBIRlXe77M3"
      },
      "source": [
        "**Estrazione dati dal database**"
      ]
    },
    {
      "cell_type": "code",
      "execution_count": 45,
      "metadata": {
        "id": "GTV0wE_epEL2"
      },
      "outputs": [],
      "source": [
        "#Crea un dataframe vuoto per i dati\n",
        "df = pd.DataFrame()\n",
        "\n",
        "#Estrarre i dati specifici dai documenti\n",
        "weekend_count = 0\n",
        "weekday_count = 0\n",
        "\n",
        "for doc in docs:\n",
        "    timestamp = doc.get(\"TimeStamp\")\n",
        "    date = datetime.strptime(timestamp, \"%d/%m/%Y  %H:%M:%S\")\n",
        "    if date.weekday() >= 5:\n",
        "        weekend_count += 1\n",
        "    else:\n",
        "        weekday_count += 1\n",
        "    df = pd.concat([df, pd.DataFrame({'ds':[date], 'y':[weekend_count], 'y2':[weekday_count]})], ignore_index=True)\n",
        "\n",
        "df['ds'] = pd.to_datetime(df['ds'])\n",
        "df['day_of_week'] = df['ds'].dt.weekday"
      ]
    },
    {
      "cell_type": "markdown",
      "metadata": {
        "id": "--kUxlTB8MGa"
      },
      "source": [
        "**Pre processing**"
      ]
    },
    {
      "cell_type": "code",
      "execution_count": 47,
      "metadata": {
        "colab": {
          "base_uri": "https://localhost:8080/"
        },
        "id": "1GW2M8Vl8OO4",
        "outputId": "79c6ff18-2bde-444d-f859-b7da60e8bda6"
      },
      "outputs": [
        {
          "name": "stdout",
          "output_type": "stream",
          "text": [
            "ds             0\n",
            "y              0\n",
            "y2             0\n",
            "day_of_week    0\n",
            "dtype: int64\n"
          ]
        }
      ],
      "source": [
        "#piccolo pre proccessing:\n",
        "\n",
        "#filtro i dati per un intervallo di date specifico (gennaio)\n",
        "df = df[df['ds'].dt.month == 1]\n",
        "\n",
        "#rimuovo le righe con valori mancanti\n",
        "df = df.dropna()\n",
        "missing_values = df.isna().sum()\n",
        "print(missing_values)"
      ]
    },
    {
      "cell_type": "markdown",
      "metadata": {
        "id": "Udxdouo-8Db3"
      },
      "source": [
        "**Machine Learning con Prophet**"
      ]
    },
    {
      "cell_type": "code",
      "execution_count": 48,
      "metadata": {
        "colab": {
          "base_uri": "https://localhost:8080/",
          "height": 654
        },
        "id": "e1EeNppJxtBE",
        "outputId": "2de74814-d47a-4869-8076-029e5db24268"
      },
      "outputs": [
        {
          "name": "stderr",
          "output_type": "stream",
          "text": [
            "INFO:prophet:Disabling yearly seasonality. Run prophet with yearly_seasonality=True to override this.\n",
            "INFO:prophet:Disabling weekly seasonality. Run prophet with weekly_seasonality=True to override this.\n",
            "INFO:prophet:n_changepoints greater than number of observations. Using 19.\n",
            "DEBUG:cmdstanpy:input tempfile: /tmp/tmp7zvny1dm/n65xgrvi.json\n",
            "DEBUG:cmdstanpy:input tempfile: /tmp/tmp7zvny1dm/70j4fl9b.json\n",
            "DEBUG:cmdstanpy:idx 0\n",
            "DEBUG:cmdstanpy:running CmdStan, num_threads: None\n",
            "DEBUG:cmdstanpy:CmdStan args: ['/usr/local/lib/python3.8/dist-packages/prophet/stan_model/prophet_model.bin', 'random', 'seed=1021', 'data', 'file=/tmp/tmp7zvny1dm/n65xgrvi.json', 'init=/tmp/tmp7zvny1dm/70j4fl9b.json', 'output', 'file=/tmp/tmp7zvny1dm/prophet_model8geo57m2/prophet_model-20230120162756.csv', 'method=optimize', 'algorithm=newton', 'iter=10000']\n",
            "16:27:56 - cmdstanpy - INFO - Chain [1] start processing\n",
            "INFO:cmdstanpy:Chain [1] start processing\n",
            "16:27:56 - cmdstanpy - INFO - Chain [1] done processing\n",
            "INFO:cmdstanpy:Chain [1] done processing\n"
          ]
        },
        {
          "name": "stdout",
          "output_type": "stream",
          "text": [
            "day_of_week\n",
            "0    18\n",
            "1     2\n",
            "2     4\n",
            "3     5\n",
            "4    43\n",
            "5    44\n",
            "6    47\n",
            "Name: y, dtype: int64\n"
          ]
        },
        {
          "data": {
            "image/png": "[encoded data removed]",
            "text/plain": [
              "<Figure size 432x288 with 1 Axes>"
            ]
          },
          "metadata": {
            "needs_background": "light"
          },
          "output_type": "display_data"
        }
      ],
      "source": [
        "#Addestro il modello e effettua le previsioni\n",
        "m = Prophet()\n",
        "m.fit(df)\n",
        "future = m.make_future_dataframe(periods=7)\n",
        "forecast = m.predict(future)\n",
        "\n",
        "#Analizzo i dati per capire se ci sono più richieste nel weekend\n",
        "print(df.groupby(by='day_of_week').sum().y)\n",
        "\n",
        "df_january = df[df['ds'].dt.month == 1]\n",
        "df_january.groupby(by='day_of_week').sum().plot(kind='bar', y='y', label='Corse')\n",
        "plt.legend()\n",
        "plt.show()\n",
        "\n",
        "#Visualizzo le previsioni generate dal modello Prophet\n",
        "m.plot(forecast)"
      ]
    }
  ],
  "metadata": {
    "colab": {
      "provenance": []
    },
    "kernelspec": {
      "display_name": "Python 3",
      "name": "python3"
    },
    "language_info": {
      "name": "python"
    }
  },
  "nbformat": 4,
  "nbformat_minor": 0
}
